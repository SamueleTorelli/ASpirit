{
 "cells": [
  {
   "cell_type": "code",
   "execution_count": 1,
   "id": "ad001013-c336-41ee-a6b8-dbea7ad3cf81",
   "metadata": {},
   "outputs": [
    {
     "ename": "ModuleNotFoundError",
     "evalue": "No module named 'invisible_cities'",
     "output_type": "error",
     "traceback": [
      "\u001b[0;31m---------------------------------------------------------------------------\u001b[0m",
      "\u001b[0;31mModuleNotFoundError\u001b[0m                       Traceback (most recent call last)",
      "Cell \u001b[0;32mIn[1], line 18\u001b[0m\n\u001b[1;32m     15\u001b[0m \u001b[38;5;28;01mfrom\u001b[39;00m \u001b[38;5;21;01mplot_functions\u001b[39;00m \u001b[38;5;28;01mimport\u001b[39;00m color_sequence\n\u001b[1;32m     16\u001b[0m \u001b[38;5;28;01mimport\u001b[39;00m \u001b[38;5;21;01mplot_functions\u001b[39;00m \u001b[38;5;28;01mas\u001b[39;00m \u001b[38;5;21;01mpf\u001b[39;00m\n\u001b[0;32m---> 18\u001b[0m \u001b[38;5;28;01mimport\u001b[39;00m \u001b[38;5;21;01manalysis_functions\u001b[39;00m \u001b[38;5;28;01mas\u001b[39;00m \u001b[38;5;21;01maf\u001b[39;00m\n\u001b[1;32m     19\u001b[0m \u001b[38;5;28;01mimport\u001b[39;00m \u001b[38;5;21;01mstats\u001b[39;00m\n\u001b[1;32m     21\u001b[0m \u001b[38;5;66;03m#Can be removed later\u001b[39;00m\n",
      "File \u001b[0;32m~/Documents/Postdoc/NEXT/ASpirit/src/analysis_functions.py:1\u001b[0m\n\u001b[0;32m----> 1\u001b[0m \u001b[38;5;28;01mimport\u001b[39;00m \u001b[38;5;21;01minvisible_cities\u001b[39;00m\u001b[38;5;21;01m.\u001b[39;00m\u001b[38;5;21;01mcore\u001b[39;00m\u001b[38;5;21;01m.\u001b[39;00m\u001b[38;5;21;01mfit_functions\u001b[39;00m \u001b[38;5;28;01mas\u001b[39;00m \u001b[38;5;21;01mfit\u001b[39;00m\n\u001b[1;32m      2\u001b[0m \u001b[38;5;28;01mimport\u001b[39;00m \u001b[38;5;21;01minvisible_cities\u001b[39;00m\u001b[38;5;21;01m.\u001b[39;00m\u001b[38;5;21;01mcore\u001b[39;00m\u001b[38;5;21;01m.\u001b[39;00m\u001b[38;5;21;01mcore_functions\u001b[39;00m \u001b[38;5;28;01mas\u001b[39;00m \u001b[38;5;21;01mcoref\u001b[39;00m\n\u001b[1;32m      4\u001b[0m \u001b[38;5;28;01mimport\u001b[39;00m \u001b[38;5;21;01mhistograms\u001b[39;00m \u001b[38;5;28;01mas\u001b[39;00m \u001b[38;5;21;01mhst\u001b[39;00m\n",
      "\u001b[0;31mModuleNotFoundError\u001b[0m: No module named 'invisible_cities'"
     ]
    }
   ],
   "source": [
    "import pandas as pd\n",
    "import os\n",
    "import sys\n",
    "import numpy as np\n",
    "import matplotlib.pyplot as plt\n",
    "from scipy.optimize import curve_fit\n",
    "from matplotlib.colors import LogNorm\n",
    "from scipy.interpolate import interp1d\n",
    "\n",
    "module_dir = os.path.abspath('../../src')  # Adjust path as needed\n",
    "sys.path.append(module_dir)\n",
    "\n",
    "from parser_fun import merge_hdfs_multi\n",
    "from plot_functions import auto_plot_style\n",
    "from plot_functions import color_sequence\n",
    "import plot_functions as pf\n",
    "\n",
    "import analysis_functions as af\n",
    "import stats\n",
    "\n",
    "#Can be removed later\n",
    "import importlib\n",
    "importlib.reload(af)\n",
    "importlib.reload(stats)\n",
    "#"
   ]
  },
  {
   "cell_type": "code",
   "execution_count": null,
   "id": "bf2f17bb-50d3-4059-9829-a1afb32b47eb",
   "metadata": {},
   "outputs": [],
   "source": [
    "maps = [af.load_kr_map(a_file) for a_file in [f'map_run{a_run}.npz' for a_run in [15502,15504,15505,15506] ] ]"
   ]
  },
  {
   "cell_type": "code",
   "execution_count": 2,
   "id": "016680ae-1bbe-483b-b63b-6945a1cbb2e6",
   "metadata": {},
   "outputs": [
    {
     "ename": "NameError",
     "evalue": "name 'maps' is not defined",
     "output_type": "error",
     "traceback": [
      "\u001b[0;31m---------------------------------------------------------------------------\u001b[0m",
      "\u001b[0;31mNameError\u001b[0m                                 Traceback (most recent call last)",
      "Cell \u001b[0;32mIn[2], line 1\u001b[0m\n\u001b[0;32m----> 1\u001b[0m xedges \u001b[38;5;241m=\u001b[39m \u001b[43mmaps\u001b[49m[\u001b[38;5;241m0\u001b[39m]\u001b[38;5;241m.\u001b[39mxedges\n\u001b[1;32m      2\u001b[0m yedges \u001b[38;5;241m=\u001b[39m maps[\u001b[38;5;241m0\u001b[39m]\u001b[38;5;241m.\u001b[39myedges\n\u001b[1;32m      3\u001b[0m zedges \u001b[38;5;241m=\u001b[39m maps[\u001b[38;5;241m0\u001b[39m]\u001b[38;5;241m.\u001b[39mzedges\n",
      "\u001b[0;31mNameError\u001b[0m: name 'maps' is not defined"
     ]
    }
   ],
   "source": [
    "xedges = maps[0].xedges\n",
    "yedges = maps[0].yedges\n",
    "zedges = maps[0].zedges"
   ]
  },
  {
   "cell_type": "code",
   "execution_count": 3,
   "id": "a59b44a4-f349-42a5-9fb1-57e140a8517c",
   "metadata": {},
   "outputs": [
    {
     "ename": "NameError",
     "evalue": "name 'xedges' is not defined",
     "output_type": "error",
     "traceback": [
      "\u001b[0;31m---------------------------------------------------------------------------\u001b[0m",
      "\u001b[0;31mNameError\u001b[0m                                 Traceback (most recent call last)",
      "Cell \u001b[0;32mIn[3], line 1\u001b[0m\n\u001b[0;32m----> 1\u001b[0m map_shape \u001b[38;5;241m=\u001b[39m (\u001b[38;5;28mlen\u001b[39m(\u001b[43mxedges\u001b[49m) \u001b[38;5;241m-\u001b[39m \u001b[38;5;241m1\u001b[39m, \u001b[38;5;28mlen\u001b[39m(yedges) \u001b[38;5;241m-\u001b[39m \u001b[38;5;241m1\u001b[39m, \u001b[38;5;28mlen\u001b[39m(zedges) \u001b[38;5;241m-\u001b[39m \u001b[38;5;241m1\u001b[39m)\n\u001b[1;32m      2\u001b[0m map_counts \u001b[38;5;241m=\u001b[39m np\u001b[38;5;241m.\u001b[39mzeros(map_shape)\n\u001b[1;32m      3\u001b[0m map_sum \u001b[38;5;241m=\u001b[39m np\u001b[38;5;241m.\u001b[39mzeros(map_shape)\n",
      "\u001b[0;31mNameError\u001b[0m: name 'xedges' is not defined"
     ]
    }
   ],
   "source": [
    "map_shape = (len(xedges) - 1, len(yedges) - 1, len(zedges) - 1)\n",
    "map_counts = np.zeros(map_shape)\n",
    "map_sum = np.zeros(map_shape)"
   ]
  },
  {
   "cell_type": "code",
   "execution_count": 21,
   "id": "4b6be2bc-b062-489d-8f85-01f8b101a769",
   "metadata": {},
   "outputs": [
    {
     "data": {
      "text/plain": [
       "0.980172613037444"
      ]
     },
     "execution_count": 21,
     "metadata": {},
     "output_type": "execute_result"
    }
   ],
   "source": [
    "maps[i].hmap[50,50,2]"
   ]
  },
  {
   "cell_type": "code",
   "execution_count": 22,
   "id": "eb8708e1-b8a2-4b2f-ab89-0e852f14289b",
   "metadata": {},
   "outputs": [],
   "source": [
    "for i in range(len(maps)):\n",
    "    map_counts += maps[i].hcounts\n",
    "    map_sum += maps[i].hmap*maps[i].hcounts"
   ]
  },
  {
   "cell_type": "code",
   "execution_count": 23,
   "id": "4faee497-39b5-4d56-83e6-de8cc3f6274f",
   "metadata": {},
   "outputs": [
    {
     "name": "stderr",
     "output_type": "stream",
     "text": [
      "/var/folders/pd/hx80lcqj1szc4vdz3mbmmv680000gn/T/ipykernel_5634/456157663.py:1: RuntimeWarning: invalid value encountered in true_divide\n",
      "  histo_ratio = np.where(map_counts != 0, map_sum / map_counts, 0)\n"
     ]
    }
   ],
   "source": [
    "histo_ratio = np.where(map_counts != 0, map_sum / map_counts, 0)"
   ]
  },
  {
   "cell_type": "code",
   "execution_count": 24,
   "id": "5f15481c-3cef-4a80-b34b-c047937b65c6",
   "metadata": {},
   "outputs": [],
   "source": [
    "ave_map = af.MapPar(\n",
    "    histo_ratio,\n",
    "    map_counts,\n",
    "    xedges,\n",
    "    yedges,\n",
    "    zedges\n",
    ")"
   ]
  },
  {
   "cell_type": "code",
   "execution_count": 25,
   "id": "2610f3cb-b119-4e53-989f-d585c4f7098d",
   "metadata": {},
   "outputs": [],
   "source": [
    "hmap = np.divide(ave_map.hratio, np.nanmedian(ave_map.hratio), where=ave_map.hcounts > 2)\n",
    "ave_map.hmap = hmap"
   ]
  },
  {
   "cell_type": "code",
   "execution_count": 26,
   "id": "f72d07ba-1a83-4511-abf5-196766b3fdd0",
   "metadata": {},
   "outputs": [],
   "source": [
    "af.save_kr_map(ave_map,'average_map.npz')"
   ]
  },
  {
   "cell_type": "code",
   "execution_count": null,
   "id": "b67b53ea-579c-4d84-9ae3-2b7049356d00",
   "metadata": {},
   "outputs": [],
   "source": []
  }
 ],
 "metadata": {
  "kernelspec": {
   "display_name": "Python 3 (ipykernel)",
   "language": "python",
   "name": "python3"
  },
  "language_info": {
   "codemirror_mode": {
    "name": "ipython",
    "version": 3
   },
   "file_extension": ".py",
   "mimetype": "text/x-python",
   "name": "python",
   "nbconvert_exporter": "python",
   "pygments_lexer": "ipython3",
   "version": "3.10.14"
  }
 },
 "nbformat": 4,
 "nbformat_minor": 5
}
